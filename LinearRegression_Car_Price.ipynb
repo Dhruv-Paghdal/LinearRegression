{
 "cells": [
  {
   "cell_type": "code",
   "execution_count": 1,
   "id": "aa9b41b9",
   "metadata": {},
   "outputs": [],
   "source": [
    "%config IPCompleter.greedy=True"
   ]
  },
  {
   "cell_type": "code",
   "execution_count": 2,
   "id": "aafa8032",
   "metadata": {},
   "outputs": [],
   "source": [
    "import numpy as np\n",
    "import pandas as pd\n",
    "import matplotlib.pyplot as plt\n",
    "from sklearn.linear_model import LinearRegression\n",
    "from sklearn.metrics import r2_score\n",
    "from sklearn.model_selection import train_test_split"
   ]
  },
  {
   "cell_type": "code",
   "execution_count": 3,
   "id": "91927cd9",
   "metadata": {},
   "outputs": [],
   "source": [
    "dataSet=\"Dataset/car dataset.csv\""
   ]
  },
  {
   "cell_type": "code",
   "execution_count": 4,
   "id": "b7e04a96",
   "metadata": {},
   "outputs": [],
   "source": [
    "df=pd.read_csv(dataSet)"
   ]
  },
  {
   "cell_type": "code",
   "execution_count": 5,
   "id": "92b0c388",
   "metadata": {},
   "outputs": [
    {
     "data": {
      "text/html": [
       "<div>\n",
       "<style scoped>\n",
       "    .dataframe tbody tr th:only-of-type {\n",
       "        vertical-align: middle;\n",
       "    }\n",
       "\n",
       "    .dataframe tbody tr th {\n",
       "        vertical-align: top;\n",
       "    }\n",
       "\n",
       "    .dataframe thead th {\n",
       "        text-align: right;\n",
       "    }\n",
       "</style>\n",
       "<table border=\"1\" class=\"dataframe\">\n",
       "  <thead>\n",
       "    <tr style=\"text-align: right;\">\n",
       "      <th></th>\n",
       "      <th>Make</th>\n",
       "      <th>Colour</th>\n",
       "      <th>Odometer (KM)</th>\n",
       "      <th>Doors</th>\n",
       "      <th>Price</th>\n",
       "    </tr>\n",
       "  </thead>\n",
       "  <tbody>\n",
       "    <tr>\n",
       "      <th>0</th>\n",
       "      <td>Honda</td>\n",
       "      <td>White</td>\n",
       "      <td>35431.0</td>\n",
       "      <td>4.0</td>\n",
       "      <td>15323.0</td>\n",
       "    </tr>\n",
       "    <tr>\n",
       "      <th>1</th>\n",
       "      <td>BMW</td>\n",
       "      <td>Blue</td>\n",
       "      <td>192714.0</td>\n",
       "      <td>5.0</td>\n",
       "      <td>19943.0</td>\n",
       "    </tr>\n",
       "    <tr>\n",
       "      <th>2</th>\n",
       "      <td>Honda</td>\n",
       "      <td>White</td>\n",
       "      <td>84714.0</td>\n",
       "      <td>4.0</td>\n",
       "      <td>28343.0</td>\n",
       "    </tr>\n",
       "    <tr>\n",
       "      <th>3</th>\n",
       "      <td>Toyota</td>\n",
       "      <td>White</td>\n",
       "      <td>154365.0</td>\n",
       "      <td>4.0</td>\n",
       "      <td>13434.0</td>\n",
       "    </tr>\n",
       "    <tr>\n",
       "      <th>4</th>\n",
       "      <td>Nissan</td>\n",
       "      <td>Blue</td>\n",
       "      <td>181577.0</td>\n",
       "      <td>3.0</td>\n",
       "      <td>14043.0</td>\n",
       "    </tr>\n",
       "    <tr>\n",
       "      <th>...</th>\n",
       "      <td>...</td>\n",
       "      <td>...</td>\n",
       "      <td>...</td>\n",
       "      <td>...</td>\n",
       "      <td>...</td>\n",
       "    </tr>\n",
       "    <tr>\n",
       "      <th>995</th>\n",
       "      <td>Toyota</td>\n",
       "      <td>Black</td>\n",
       "      <td>35820.0</td>\n",
       "      <td>4.0</td>\n",
       "      <td>32042.0</td>\n",
       "    </tr>\n",
       "    <tr>\n",
       "      <th>996</th>\n",
       "      <td>NaN</td>\n",
       "      <td>White</td>\n",
       "      <td>155144.0</td>\n",
       "      <td>3.0</td>\n",
       "      <td>5716.0</td>\n",
       "    </tr>\n",
       "    <tr>\n",
       "      <th>997</th>\n",
       "      <td>Nissan</td>\n",
       "      <td>Blue</td>\n",
       "      <td>66604.0</td>\n",
       "      <td>4.0</td>\n",
       "      <td>31570.0</td>\n",
       "    </tr>\n",
       "    <tr>\n",
       "      <th>998</th>\n",
       "      <td>Honda</td>\n",
       "      <td>White</td>\n",
       "      <td>215883.0</td>\n",
       "      <td>4.0</td>\n",
       "      <td>4001.0</td>\n",
       "    </tr>\n",
       "    <tr>\n",
       "      <th>999</th>\n",
       "      <td>Toyota</td>\n",
       "      <td>Blue</td>\n",
       "      <td>248360.0</td>\n",
       "      <td>4.0</td>\n",
       "      <td>12732.0</td>\n",
       "    </tr>\n",
       "  </tbody>\n",
       "</table>\n",
       "<p>1000 rows × 5 columns</p>\n",
       "</div>"
      ],
      "text/plain": [
       "       Make Colour  Odometer (KM)  Doors    Price\n",
       "0     Honda  White        35431.0    4.0  15323.0\n",
       "1       BMW   Blue       192714.0    5.0  19943.0\n",
       "2     Honda  White        84714.0    4.0  28343.0\n",
       "3    Toyota  White       154365.0    4.0  13434.0\n",
       "4    Nissan   Blue       181577.0    3.0  14043.0\n",
       "..      ...    ...            ...    ...      ...\n",
       "995  Toyota  Black        35820.0    4.0  32042.0\n",
       "996     NaN  White       155144.0    3.0   5716.0\n",
       "997  Nissan   Blue        66604.0    4.0  31570.0\n",
       "998   Honda  White       215883.0    4.0   4001.0\n",
       "999  Toyota   Blue       248360.0    4.0  12732.0\n",
       "\n",
       "[1000 rows x 5 columns]"
      ]
     },
     "execution_count": 5,
     "metadata": {},
     "output_type": "execute_result"
    }
   ],
   "source": [
    "df"
   ]
  },
  {
   "cell_type": "code",
   "execution_count": 6,
   "id": "45aedca4",
   "metadata": {
    "scrolled": true
   },
   "outputs": [
    {
     "data": {
      "text/plain": [
       "Make             49\n",
       "Colour           50\n",
       "Odometer (KM)    50\n",
       "Doors            50\n",
       "Price            50\n",
       "dtype: int64"
      ]
     },
     "execution_count": 6,
     "metadata": {},
     "output_type": "execute_result"
    }
   ],
   "source": [
    "df.isnull().sum()"
   ]
  },
  {
   "cell_type": "code",
   "execution_count": 7,
   "id": "d3260fdf",
   "metadata": {},
   "outputs": [
    {
     "data": {
      "text/plain": [
       "Toyota    379\n",
       "Honda     292\n",
       "Nissan    183\n",
       "BMW        97\n",
       "Name: Make, dtype: int64"
      ]
     },
     "execution_count": 7,
     "metadata": {},
     "output_type": "execute_result"
    }
   ],
   "source": [
    "df['Make'].value_counts()"
   ]
  },
  {
   "cell_type": "code",
   "execution_count": 8,
   "id": "43adc0e9",
   "metadata": {},
   "outputs": [
    {
     "data": {
      "text/plain": [
       "White    390\n",
       "Blue     302\n",
       "Black     95\n",
       "Red       88\n",
       "Green     75\n",
       "Name: Colour, dtype: int64"
      ]
     },
     "execution_count": 8,
     "metadata": {},
     "output_type": "execute_result"
    }
   ],
   "source": [
    "df['Colour'].value_counts()"
   ]
  },
  {
   "cell_type": "code",
   "execution_count": 9,
   "id": "591d1055",
   "metadata": {},
   "outputs": [
    {
     "data": {
      "text/plain": [
       "4.0    811\n",
       "5.0     75\n",
       "3.0     64\n",
       "Name: Doors, dtype: int64"
      ]
     },
     "execution_count": 9,
     "metadata": {},
     "output_type": "execute_result"
    }
   ],
   "source": [
    "df['Doors'].value_counts()"
   ]
  },
  {
   "cell_type": "code",
   "execution_count": 10,
   "id": "d899dde7",
   "metadata": {},
   "outputs": [],
   "source": [
    "df['Odometer (KM)'].dtypef='float64'"
   ]
  },
  {
   "cell_type": "code",
   "execution_count": 11,
   "id": "8bcfbda3",
   "metadata": {},
   "outputs": [],
   "source": [
    "df['Doors'].dtypef='float64'"
   ]
  },
  {
   "cell_type": "code",
   "execution_count": 12,
   "id": "07dec72f",
   "metadata": {},
   "outputs": [],
   "source": [
    "df['Price'].dtypef='float64'"
   ]
  },
  {
   "cell_type": "code",
   "execution_count": 13,
   "id": "fa6de7c1",
   "metadata": {},
   "outputs": [
    {
     "data": {
      "text/html": [
       "<div>\n",
       "<style scoped>\n",
       "    .dataframe tbody tr th:only-of-type {\n",
       "        vertical-align: middle;\n",
       "    }\n",
       "\n",
       "    .dataframe tbody tr th {\n",
       "        vertical-align: top;\n",
       "    }\n",
       "\n",
       "    .dataframe thead th {\n",
       "        text-align: right;\n",
       "    }\n",
       "</style>\n",
       "<table border=\"1\" class=\"dataframe\">\n",
       "  <thead>\n",
       "    <tr style=\"text-align: right;\">\n",
       "      <th></th>\n",
       "      <th>count</th>\n",
       "      <th>mean</th>\n",
       "      <th>std</th>\n",
       "      <th>min</th>\n",
       "      <th>25%</th>\n",
       "      <th>50%</th>\n",
       "      <th>75%</th>\n",
       "      <th>max</th>\n",
       "    </tr>\n",
       "  </thead>\n",
       "  <tbody>\n",
       "    <tr>\n",
       "      <th>Odometer (KM)</th>\n",
       "      <td>950.0</td>\n",
       "      <td>131253.237895</td>\n",
       "      <td>69094.857187</td>\n",
       "      <td>10148.0</td>\n",
       "      <td>70391.25</td>\n",
       "      <td>131821.0</td>\n",
       "      <td>192668.50</td>\n",
       "      <td>249860.0</td>\n",
       "    </tr>\n",
       "    <tr>\n",
       "      <th>Doors</th>\n",
       "      <td>950.0</td>\n",
       "      <td>4.011579</td>\n",
       "      <td>0.382539</td>\n",
       "      <td>3.0</td>\n",
       "      <td>4.00</td>\n",
       "      <td>4.0</td>\n",
       "      <td>4.00</td>\n",
       "      <td>5.0</td>\n",
       "    </tr>\n",
       "    <tr>\n",
       "      <th>Price</th>\n",
       "      <td>950.0</td>\n",
       "      <td>16042.814737</td>\n",
       "      <td>8581.695036</td>\n",
       "      <td>2796.0</td>\n",
       "      <td>9529.25</td>\n",
       "      <td>14297.0</td>\n",
       "      <td>20806.25</td>\n",
       "      <td>52458.0</td>\n",
       "    </tr>\n",
       "  </tbody>\n",
       "</table>\n",
       "</div>"
      ],
      "text/plain": [
       "               count           mean           std      min       25%  \\\n",
       "Odometer (KM)  950.0  131253.237895  69094.857187  10148.0  70391.25   \n",
       "Doors          950.0       4.011579      0.382539      3.0      4.00   \n",
       "Price          950.0   16042.814737   8581.695036   2796.0   9529.25   \n",
       "\n",
       "                    50%        75%       max  \n",
       "Odometer (KM)  131821.0  192668.50  249860.0  \n",
       "Doors               4.0       4.00       5.0  \n",
       "Price           14297.0   20806.25   52458.0  "
      ]
     },
     "execution_count": 13,
     "metadata": {},
     "output_type": "execute_result"
    }
   ],
   "source": [
    "df.describe().T"
   ]
  },
  {
   "cell_type": "code",
   "execution_count": 14,
   "id": "765e0108",
   "metadata": {},
   "outputs": [],
   "source": [
    "df['Make'].fillna('Toyota',inplace=True)\n",
    "df['Colour'].fillna('White',inplace=True)\n",
    "df['Odometer (KM)'].fillna(df['Odometer (KM)'].mean(),inplace=True)\n",
    "df['Doors'].fillna(4.0,inplace=True)\n",
    "df['Price'].fillna(df['Price'].mean(),inplace=True)"
   ]
  },
  {
   "cell_type": "code",
   "execution_count": 15,
   "id": "a3ac1b0e",
   "metadata": {},
   "outputs": [
    {
     "data": {
      "text/plain": [
       "Make             0\n",
       "Colour           0\n",
       "Odometer (KM)    0\n",
       "Doors            0\n",
       "Price            0\n",
       "dtype: int64"
      ]
     },
     "execution_count": 15,
     "metadata": {},
     "output_type": "execute_result"
    }
   ],
   "source": [
    "df.isnull().sum()"
   ]
  },
  {
   "cell_type": "code",
   "execution_count": 16,
   "id": "90a39072",
   "metadata": {},
   "outputs": [
    {
     "data": {
      "text/html": [
       "<div>\n",
       "<style scoped>\n",
       "    .dataframe tbody tr th:only-of-type {\n",
       "        vertical-align: middle;\n",
       "    }\n",
       "\n",
       "    .dataframe tbody tr th {\n",
       "        vertical-align: top;\n",
       "    }\n",
       "\n",
       "    .dataframe thead th {\n",
       "        text-align: right;\n",
       "    }\n",
       "</style>\n",
       "<table border=\"1\" class=\"dataframe\">\n",
       "  <thead>\n",
       "    <tr style=\"text-align: right;\">\n",
       "      <th></th>\n",
       "      <th>Make</th>\n",
       "      <th>Colour</th>\n",
       "      <th>Odometer (KM)</th>\n",
       "      <th>Doors</th>\n",
       "      <th>Price</th>\n",
       "    </tr>\n",
       "  </thead>\n",
       "  <tbody>\n",
       "    <tr>\n",
       "      <th>0</th>\n",
       "      <td>Honda</td>\n",
       "      <td>White</td>\n",
       "      <td>35431.0</td>\n",
       "      <td>4.0</td>\n",
       "      <td>15323.0</td>\n",
       "    </tr>\n",
       "    <tr>\n",
       "      <th>1</th>\n",
       "      <td>BMW</td>\n",
       "      <td>Blue</td>\n",
       "      <td>192714.0</td>\n",
       "      <td>5.0</td>\n",
       "      <td>19943.0</td>\n",
       "    </tr>\n",
       "    <tr>\n",
       "      <th>2</th>\n",
       "      <td>Honda</td>\n",
       "      <td>White</td>\n",
       "      <td>84714.0</td>\n",
       "      <td>4.0</td>\n",
       "      <td>28343.0</td>\n",
       "    </tr>\n",
       "    <tr>\n",
       "      <th>3</th>\n",
       "      <td>Toyota</td>\n",
       "      <td>White</td>\n",
       "      <td>154365.0</td>\n",
       "      <td>4.0</td>\n",
       "      <td>13434.0</td>\n",
       "    </tr>\n",
       "    <tr>\n",
       "      <th>4</th>\n",
       "      <td>Nissan</td>\n",
       "      <td>Blue</td>\n",
       "      <td>181577.0</td>\n",
       "      <td>3.0</td>\n",
       "      <td>14043.0</td>\n",
       "    </tr>\n",
       "  </tbody>\n",
       "</table>\n",
       "</div>"
      ],
      "text/plain": [
       "     Make Colour  Odometer (KM)  Doors    Price\n",
       "0   Honda  White        35431.0    4.0  15323.0\n",
       "1     BMW   Blue       192714.0    5.0  19943.0\n",
       "2   Honda  White        84714.0    4.0  28343.0\n",
       "3  Toyota  White       154365.0    4.0  13434.0\n",
       "4  Nissan   Blue       181577.0    3.0  14043.0"
      ]
     },
     "execution_count": 16,
     "metadata": {},
     "output_type": "execute_result"
    }
   ],
   "source": [
    "df.head()"
   ]
  },
  {
   "cell_type": "code",
   "execution_count": 17,
   "id": "a75b3721",
   "metadata": {},
   "outputs": [
    {
     "data": {
      "text/html": [
       "<div>\n",
       "<style scoped>\n",
       "    .dataframe tbody tr th:only-of-type {\n",
       "        vertical-align: middle;\n",
       "    }\n",
       "\n",
       "    .dataframe tbody tr th {\n",
       "        vertical-align: top;\n",
       "    }\n",
       "\n",
       "    .dataframe thead th {\n",
       "        text-align: right;\n",
       "    }\n",
       "</style>\n",
       "<table border=\"1\" class=\"dataframe\">\n",
       "  <thead>\n",
       "    <tr style=\"text-align: right;\">\n",
       "      <th></th>\n",
       "      <th>Make</th>\n",
       "      <th>Colour</th>\n",
       "      <th>Odometer (KM)</th>\n",
       "      <th>Doors</th>\n",
       "      <th>Price</th>\n",
       "    </tr>\n",
       "  </thead>\n",
       "  <tbody>\n",
       "    <tr>\n",
       "      <th>995</th>\n",
       "      <td>Toyota</td>\n",
       "      <td>Black</td>\n",
       "      <td>35820.0</td>\n",
       "      <td>4.0</td>\n",
       "      <td>32042.0</td>\n",
       "    </tr>\n",
       "    <tr>\n",
       "      <th>996</th>\n",
       "      <td>Toyota</td>\n",
       "      <td>White</td>\n",
       "      <td>155144.0</td>\n",
       "      <td>3.0</td>\n",
       "      <td>5716.0</td>\n",
       "    </tr>\n",
       "    <tr>\n",
       "      <th>997</th>\n",
       "      <td>Nissan</td>\n",
       "      <td>Blue</td>\n",
       "      <td>66604.0</td>\n",
       "      <td>4.0</td>\n",
       "      <td>31570.0</td>\n",
       "    </tr>\n",
       "    <tr>\n",
       "      <th>998</th>\n",
       "      <td>Honda</td>\n",
       "      <td>White</td>\n",
       "      <td>215883.0</td>\n",
       "      <td>4.0</td>\n",
       "      <td>4001.0</td>\n",
       "    </tr>\n",
       "    <tr>\n",
       "      <th>999</th>\n",
       "      <td>Toyota</td>\n",
       "      <td>Blue</td>\n",
       "      <td>248360.0</td>\n",
       "      <td>4.0</td>\n",
       "      <td>12732.0</td>\n",
       "    </tr>\n",
       "  </tbody>\n",
       "</table>\n",
       "</div>"
      ],
      "text/plain": [
       "       Make Colour  Odometer (KM)  Doors    Price\n",
       "995  Toyota  Black        35820.0    4.0  32042.0\n",
       "996  Toyota  White       155144.0    3.0   5716.0\n",
       "997  Nissan   Blue        66604.0    4.0  31570.0\n",
       "998   Honda  White       215883.0    4.0   4001.0\n",
       "999  Toyota   Blue       248360.0    4.0  12732.0"
      ]
     },
     "execution_count": 17,
     "metadata": {},
     "output_type": "execute_result"
    }
   ],
   "source": [
    "df.tail()"
   ]
  },
  {
   "cell_type": "code",
   "execution_count": 18,
   "id": "a09b8506",
   "metadata": {},
   "outputs": [],
   "source": [
    "x=np.array(df.drop(['Make','Colour','Price','Doors'],axis=1))\n",
    "y=np.array(df.Price)"
   ]
  },
  {
   "cell_type": "code",
   "execution_count": 19,
   "id": "f9488bf3",
   "metadata": {},
   "outputs": [],
   "source": [
    "x_train,x_test,y_train,y_test=train_test_split(x,y,test_size=0.2,random_state=542)"
   ]
  },
  {
   "cell_type": "code",
   "execution_count": 20,
   "id": "8e21168c",
   "metadata": {},
   "outputs": [
    {
     "data": {
      "text/plain": [
       "800"
      ]
     },
     "execution_count": 20,
     "metadata": {},
     "output_type": "execute_result"
    }
   ],
   "source": [
    "len(x_train)"
   ]
  },
  {
   "cell_type": "code",
   "execution_count": 21,
   "id": "83cfe320",
   "metadata": {},
   "outputs": [
    {
     "data": {
      "text/plain": [
       "800"
      ]
     },
     "execution_count": 21,
     "metadata": {},
     "output_type": "execute_result"
    }
   ],
   "source": [
    "len(y_train)"
   ]
  },
  {
   "cell_type": "code",
   "execution_count": 22,
   "id": "11128bd8",
   "metadata": {},
   "outputs": [
    {
     "data": {
      "text/plain": [
       "200"
      ]
     },
     "execution_count": 22,
     "metadata": {},
     "output_type": "execute_result"
    }
   ],
   "source": [
    "len(x_test)"
   ]
  },
  {
   "cell_type": "code",
   "execution_count": 23,
   "id": "7bca6480",
   "metadata": {},
   "outputs": [
    {
     "data": {
      "text/plain": [
       "200"
      ]
     },
     "execution_count": 23,
     "metadata": {},
     "output_type": "execute_result"
    }
   ],
   "source": [
    "len(y_test)"
   ]
  },
  {
   "cell_type": "code",
   "execution_count": 24,
   "id": "5b29bcc8",
   "metadata": {},
   "outputs": [],
   "source": [
    "model=LinearRegression()"
   ]
  },
  {
   "cell_type": "code",
   "execution_count": 25,
   "id": "17f8ac33",
   "metadata": {},
   "outputs": [
    {
     "data": {
      "text/plain": [
       "LinearRegression()"
      ]
     },
     "execution_count": 25,
     "metadata": {},
     "output_type": "execute_result"
    }
   ],
   "source": [
    "model.fit(x_train,y_train)"
   ]
  },
  {
   "cell_type": "code",
   "execution_count": 26,
   "id": "ced5cd29",
   "metadata": {},
   "outputs": [
    {
     "data": {
      "text/plain": [
       "array([20075.        , 12152.        ,  7469.        ,  6160.        ,\n",
       "       33817.        ,  7425.        , 16138.        ,  8687.        ,\n",
       "       10241.        ,  4001.        , 15666.        , 18180.        ,\n",
       "        9374.        ,  9290.        ,  6010.        , 18306.        ,\n",
       "       35687.        ,  4566.        , 16042.81473684, 16042.81473684,\n",
       "       10596.        , 25104.        , 31570.        , 11121.        ,\n",
       "       14404.        , 32676.        , 21242.        , 15662.        ,\n",
       "       11479.        , 21326.        , 27868.        ,  8226.        ,\n",
       "       15879.        , 16908.        ,  9521.        , 14043.        ,\n",
       "       16042.81473684, 10101.        , 18355.        , 10377.        ,\n",
       "       28414.        , 14204.        , 14671.        ,  3594.        ,\n",
       "       29089.        , 33353.        , 12086.        , 52458.        ,\n",
       "       20100.        ,  6391.        ,  4200.        ,  5094.        ,\n",
       "        9402.        , 11092.        ,  8809.        , 32887.        ,\n",
       "       24242.        , 28013.        , 20155.        , 16042.81473684,\n",
       "        9780.        , 21580.        , 28354.        , 23377.        ,\n",
       "        7882.        , 14431.        ,  5653.        ,  6121.        ,\n",
       "       18484.        , 25068.        , 10352.        , 16042.81473684,\n",
       "       30104.        , 19373.        , 16042.81473684,  6960.        ,\n",
       "       14189.        , 16719.        , 10494.        , 25847.        ,\n",
       "       20590.        , 13176.        , 23438.        , 13273.        ,\n",
       "       28993.        ,  4022.        , 35264.        , 24834.        ,\n",
       "        7982.        , 18396.        , 18834.        ,  6431.        ,\n",
       "       16042.81473684, 10821.        , 11616.        , 29363.        ,\n",
       "       16519.        , 19629.        , 14345.        , 13648.        ,\n",
       "       35760.        , 35333.        ,  6567.        , 22505.        ,\n",
       "       23339.        , 17317.        ,  9685.        ,  9992.        ,\n",
       "       19085.        , 13005.        , 16517.        , 29551.        ,\n",
       "        7217.        , 16345.        ,  9224.        , 11485.        ,\n",
       "        3825.        ,  8321.        ,  6956.        , 15610.        ,\n",
       "       38984.        , 15767.        ,  8980.        , 27557.        ,\n",
       "        7682.        , 22002.        ,  8979.        , 12402.        ,\n",
       "       17144.        , 15154.        , 14650.        ,  9330.        ,\n",
       "       35988.        , 13650.        , 13707.        , 14331.        ,\n",
       "        9229.        , 11733.        , 16042.81473684,  8916.        ,\n",
       "       13866.        , 10196.        , 15372.        , 10547.        ,\n",
       "       17152.        , 17866.        , 22155.        ,  5273.        ,\n",
       "       16042.81473684, 16042.81473684, 24891.        , 13427.        ,\n",
       "       12001.        , 22643.        , 16042.81473684,  7725.        ,\n",
       "       17961.        , 16042.81473684, 22816.        , 16892.        ,\n",
       "        8358.        , 15260.        , 16042.81473684, 13213.        ,\n",
       "       16042.81473684,  6978.        , 15686.        , 18310.        ,\n",
       "       23240.        , 16259.        ,  4753.        ,  9545.        ,\n",
       "       20622.        , 15604.        , 30323.        , 13070.        ,\n",
       "       16464.        , 17795.        , 12872.        , 17584.        ,\n",
       "       11768.        , 13433.        , 16042.81473684, 17177.        ,\n",
       "       16867.        , 10130.        , 11364.        ,  7100.        ,\n",
       "       13272.        , 27419.        , 10855.        ,  7435.        ,\n",
       "       16319.        , 16366.        , 16179.        , 24949.        ,\n",
       "        4239.        , 12172.        , 17939.        , 25735.        ])"
      ]
     },
     "execution_count": 26,
     "metadata": {},
     "output_type": "execute_result"
    }
   ],
   "source": [
    "y_test"
   ]
  },
  {
   "cell_type": "code",
   "execution_count": 27,
   "id": "148352f4",
   "metadata": {},
   "outputs": [],
   "source": [
    "y_pred=model.predict(x_test)"
   ]
  },
  {
   "cell_type": "code",
   "execution_count": 28,
   "id": "afcddb62",
   "metadata": {},
   "outputs": [
    {
     "data": {
      "text/plain": [
       "array([16528.24987671, 12374.71752156, 17468.99265661, 20841.14721628,\n",
       "       19497.92806182, 12486.50705803, 11187.75690456, 17506.52534453,\n",
       "       19788.91277838, 12382.93045667, 16749.19059744, 16119.64571637,\n",
       "       16014.70738483, 18941.95916421, 12385.61136295, 16239.69074202,\n",
       "       20278.79520848, 13690.91484288, 14220.33000209, 19001.74762967,\n",
       "       13319.50293792, 15249.58524331, 18735.35916438, 15859.68291533,\n",
       "       14168.83957989, 19049.49329389, 16034.40991829, 18078.53712575,\n",
       "       17425.92793986, 20946.42598036, 20622.50441522, 11129.96848031,\n",
       "       11935.77231078, 16552.20781696, 20437.01123308, 13842.79031135,\n",
       "       14109.51920918, 16815.19195681, 13431.93078541, 14543.91113469,\n",
       "       20312.83846284, 20354.24357094, 15984.27110287, 12614.29692405,\n",
       "       19733.50738193, 20676.63318964, 11982.79455585, 20877.10540369,\n",
       "       17842.14927836, 12163.05358763, 12634.29733598, 15984.27110287,\n",
       "       12584.16864395, 14178.28658297, 15729.80789999, 15984.27110287,\n",
       "       17038.68592162, 19721.20925629, 15291.20312175, 19731.67755701,\n",
       "       15035.28295717, 15083.96481089, 19044.68468422, 13370.61037351,\n",
       "       13622.57300977, 12079.86038482, 12625.06310324, 11177.7566986 ,\n",
       "       16179.34907368, 19135.6227274 , 13493.67673799, 15719.42470741,\n",
       "       19426.47978176, 17799.42499415, 20126.57930747, 16045.26120561,\n",
       "       13407.33453414, 15475.71756033, 11475.42240383, 19424.18186209,\n",
       "       15099.6247079 , 12282.07731566, 19944.66066704, 11434.4428364 ,\n",
       "       18830.76538469, 13595.8490551 , 17578.39916528, 16791.14890843,\n",
       "       12445.82536908, 13961.13317428, 13519.16662468, 12025.09329938,\n",
       "       11952.79393795, 14279.99080534, 11609.80815037, 18623.95261451,\n",
       "       15891.51335815, 18451.01288241, 14957.45156691, 18012.36555011,\n",
       "       18947.32097677, 20672.46289098, 11360.56897446, 16709.87063867,\n",
       "       18853.61691918, 19678.69774242, 13657.12691294, 14944.7279006 ,\n",
       "       15543.25086615, 13350.95039412, 17938.91722885, 17196.22108113,\n",
       "       16288.1598254 , 17011.57898035, 15338.43813716, 14465.73931189,\n",
       "       12410.50549269, 15189.62656158, 13165.28699571, 16140.19933118,\n",
       "       19632.86701126, 12580.12600749, 13921.51533703, 18752.59356189,\n",
       "       16158.58268853, 17932.40645646, 18061.94103926, 12471.86845866,\n",
       "       15984.27110287, 15592.27315241, 15201.20126806, 12897.3240299 ,\n",
       "       17729.16822798, 16885.36361484, 13223.50096065, 13980.06973452,\n",
       "       13999.51694356, 12509.01815997, 13467.08044552, 15276.35175204,\n",
       "       14569.784008  , 14249.56464677, 20455.09671195, 17324.39393376,\n",
       "       18681.27294403, 13236.3097351 , 17786.23323309, 12896.94104329,\n",
       "       19965.21428185, 11316.78083855, 13988.02734522, 14089.60390539,\n",
       "       11898.7077176 , 20769.10317927, 18264.1579701 , 11658.6176663 ,\n",
       "       18525.86548792, 18734.12509641, 20232.66659884, 18500.71603377,\n",
       "       10984.9016627 , 18867.40443719, 13567.93358654, 15984.27110287,\n",
       "       13547.59274206, 13726.06450299, 16215.52003143, 13648.36077494,\n",
       "       14384.20571772, 14445.18569708, 16794.08513912, 15984.27110287,\n",
       "       16297.26639594, 18703.01807274, 20176.06968848, 15984.27110287,\n",
       "       21011.49115024, 19576.05733056, 12455.44258844, 19698.05984334,\n",
       "       12414.97366983, 13583.80625388, 12088.03076586, 13306.09840652,\n",
       "       12955.1975623 , 15984.27110287, 14712.4677978 , 13518.01766485,\n",
       "       11528.91286722, 19241.02915368, 14358.8860473 , 17513.50421167,\n",
       "       17889.55451004, 11863.47294935, 16621.48583956, 18785.1048698 ,\n",
       "       12820.64159948, 20849.06227292, 15984.27110287, 18474.88571453])"
      ]
     },
     "execution_count": 28,
     "metadata": {},
     "output_type": "execute_result"
    }
   ],
   "source": [
    "y_pred"
   ]
  },
  {
   "cell_type": "code",
   "execution_count": 29,
   "id": "24522bda",
   "metadata": {},
   "outputs": [
    {
     "data": {
      "text/plain": [
       "0.26535906759645356"
      ]
     },
     "execution_count": 29,
     "metadata": {},
     "output_type": "execute_result"
    }
   ],
   "source": [
    "model.score(x_test,y_test)"
   ]
  },
  {
   "cell_type": "code",
   "execution_count": 30,
   "id": "97a4db5e",
   "metadata": {},
   "outputs": [
    {
     "data": {
      "text/plain": [
       "0.26535906759645356"
      ]
     },
     "execution_count": 30,
     "metadata": {},
     "output_type": "execute_result"
    }
   ],
   "source": [
    "r2_score(y_test,y_pred)"
   ]
  },
  {
   "cell_type": "code",
   "execution_count": 31,
   "id": "3319aafa",
   "metadata": {},
   "outputs": [
    {
     "data": {
      "text/plain": [
       "[<matplotlib.lines.Line2D at 0x18c7f8ac3d0>]"
      ]
     },
     "execution_count": 31,
     "metadata": {},
     "output_type": "execute_result"
    },
    {
     "data": {
      "image/png": "[encoded data removed]",
      "text/plain": [
       "<Figure size 432x288 with 1 Axes>"
      ]
     },
     "metadata": {
      "needs_background": "light"
     },
     "output_type": "display_data"
    }
   ],
   "source": [
    "plt.scatter(y_test,y_pred)\n",
    "plt.grid()\n",
    "plt.plot([min(y_test),max(y_test)],[min(y_pred),max(y_pred)],color='red')"
   ]
  },
  {
   "cell_type": "code",
   "execution_count": null,
   "id": "8459d40e",
   "metadata": {},
   "outputs": [],
   "source": []
  }
 ],
 "metadata": {
  "kernelspec": {
   "display_name": "Python 3 (ipykernel)",
   "language": "python",
   "name": "python3"
  },
  "language_info": {
   "codemirror_mode": {
    "name": "ipython",
    "version": 3
   },
   "file_extension": ".py",
   "mimetype": "text/x-python",
   "name": "python",
   "nbconvert_exporter": "python",
   "pygments_lexer": "ipython3",
   "version": "3.9.2"
  }
 },
 "nbformat": 4,
 "nbformat_minor": 5
}
